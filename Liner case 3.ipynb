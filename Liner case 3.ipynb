{
 "cells": [
  {
   "cell_type": "code",
   "execution_count": 13,
   "metadata": {},
   "outputs": [],
   "source": [
    "import pandas as pd\n",
    "import pandas_profiling as pp\n",
    "import numpy as np"
   ]
  },
  {
   "cell_type": "code",
   "execution_count": 74,
   "metadata": {},
   "outputs": [],
   "source": [
    "loan = pd.read_csv('C:\\\\Users\\\\om sai\\\\Downloads\\\\Case 3\\\\loans data.csv')"
   ]
  },
  {
   "cell_type": "code",
   "execution_count": 75,
   "metadata": {},
   "outputs": [
    {
     "name": "stdout",
     "output_type": "stream",
     "text": [
      "<class 'pandas.core.frame.DataFrame'>\n",
      "RangeIndex: 2500 entries, 0 to 2499\n",
      "Data columns (total 13 columns):\n",
      "ID                           2499 non-null float64\n",
      "AmountRequested              2500 non-null int64\n",
      "AmountFundedByInvestors      2500 non-null int64\n",
      "InterestRate                 2500 non-null int64\n",
      "LoanLength                   2498 non-null object\n",
      "LoanPurpose                  2499 non-null object\n",
      "DebtToIncomeRatio            2500 non-null int64\n",
      "HomeOwnership                2499 non-null object\n",
      "MonthlyIncome                2500 non-null int64\n",
      "OpenCREDITLines              2500 non-null int64\n",
      "RevolvingCREDITBalance       2500 non-null int64\n",
      "InquiriesintheLast6Months    2500 non-null int64\n",
      "EmploymentLength             2422 non-null object\n",
      "dtypes: float64(1), int64(8), object(4)\n",
      "memory usage: 254.0+ KB\n"
     ]
    }
   ],
   "source": [
    "loan.info()"
   ]
  },
  {
   "cell_type": "code",
   "execution_count": 76,
   "metadata": {},
   "outputs": [
    {
     "data": {
      "text/html": [
       "<div>\n",
       "<style scoped>\n",
       "    .dataframe tbody tr th:only-of-type {\n",
       "        vertical-align: middle;\n",
       "    }\n",
       "\n",
       "    .dataframe tbody tr th {\n",
       "        vertical-align: top;\n",
       "    }\n",
       "\n",
       "    .dataframe thead th {\n",
       "        text-align: right;\n",
       "    }\n",
       "</style>\n",
       "<table border=\"1\" class=\"dataframe\">\n",
       "  <thead>\n",
       "    <tr style=\"text-align: right;\">\n",
       "      <th></th>\n",
       "      <th>ID</th>\n",
       "      <th>AmountRequested</th>\n",
       "      <th>AmountFundedByInvestors</th>\n",
       "      <th>InterestRate</th>\n",
       "      <th>LoanLength</th>\n",
       "      <th>LoanPurpose</th>\n",
       "      <th>DebtToIncomeRatio</th>\n",
       "      <th>HomeOwnership</th>\n",
       "      <th>MonthlyIncome</th>\n",
       "      <th>OpenCREDITLines</th>\n",
       "      <th>RevolvingCREDITBalance</th>\n",
       "      <th>InquiriesintheLast6Months</th>\n",
       "      <th>EmploymentLength</th>\n",
       "    </tr>\n",
       "  </thead>\n",
       "  <tbody>\n",
       "    <tr>\n",
       "      <th>0</th>\n",
       "      <td>81174.0</td>\n",
       "      <td>20000</td>\n",
       "      <td>20000</td>\n",
       "      <td>9</td>\n",
       "      <td>36 months</td>\n",
       "      <td>debt_consolidation</td>\n",
       "      <td>15</td>\n",
       "      <td>MORTGAGE</td>\n",
       "      <td>654167</td>\n",
       "      <td>14</td>\n",
       "      <td>14272</td>\n",
       "      <td>2</td>\n",
       "      <td>1 year</td>\n",
       "    </tr>\n",
       "    <tr>\n",
       "      <th>1</th>\n",
       "      <td>99592.0</td>\n",
       "      <td>19200</td>\n",
       "      <td>19200</td>\n",
       "      <td>12</td>\n",
       "      <td>36 months</td>\n",
       "      <td>debt_consolidation</td>\n",
       "      <td>28</td>\n",
       "      <td>MORTGAGE</td>\n",
       "      <td>458333</td>\n",
       "      <td>12</td>\n",
       "      <td>11140</td>\n",
       "      <td>1</td>\n",
       "      <td>2 years</td>\n",
       "    </tr>\n",
       "    <tr>\n",
       "      <th>2</th>\n",
       "      <td>80059.0</td>\n",
       "      <td>35000</td>\n",
       "      <td>35000</td>\n",
       "      <td>22</td>\n",
       "      <td>60 months</td>\n",
       "      <td>debt_consolidation</td>\n",
       "      <td>24</td>\n",
       "      <td>MORTGAGE</td>\n",
       "      <td>11500</td>\n",
       "      <td>14</td>\n",
       "      <td>21977</td>\n",
       "      <td>1</td>\n",
       "      <td>2 years</td>\n",
       "    </tr>\n",
       "    <tr>\n",
       "      <th>3</th>\n",
       "      <td>15825.0</td>\n",
       "      <td>10000</td>\n",
       "      <td>9975</td>\n",
       "      <td>1</td>\n",
       "      <td>36 months</td>\n",
       "      <td>debt_consolidation</td>\n",
       "      <td>14</td>\n",
       "      <td>MORTGAGE</td>\n",
       "      <td>383333</td>\n",
       "      <td>10</td>\n",
       "      <td>9346</td>\n",
       "      <td>0</td>\n",
       "      <td>5 years</td>\n",
       "    </tr>\n",
       "    <tr>\n",
       "      <th>4</th>\n",
       "      <td>33182.0</td>\n",
       "      <td>12000</td>\n",
       "      <td>12000</td>\n",
       "      <td>12</td>\n",
       "      <td>36 months</td>\n",
       "      <td>credit_card</td>\n",
       "      <td>19</td>\n",
       "      <td>RENT</td>\n",
       "      <td>3195</td>\n",
       "      <td>11</td>\n",
       "      <td>14469</td>\n",
       "      <td>0</td>\n",
       "      <td>9 years</td>\n",
       "    </tr>\n",
       "  </tbody>\n",
       "</table>\n",
       "</div>"
      ],
      "text/plain": [
       "        ID  AmountRequested  AmountFundedByInvestors  InterestRate LoanLength  \\\n",
       "0  81174.0            20000                    20000             9  36 months   \n",
       "1  99592.0            19200                    19200            12  36 months   \n",
       "2  80059.0            35000                    35000            22  60 months   \n",
       "3  15825.0            10000                     9975             1  36 months   \n",
       "4  33182.0            12000                    12000            12  36 months   \n",
       "\n",
       "          LoanPurpose  DebtToIncomeRatio HomeOwnership  MonthlyIncome  \\\n",
       "0  debt_consolidation                 15      MORTGAGE         654167   \n",
       "1  debt_consolidation                 28      MORTGAGE         458333   \n",
       "2  debt_consolidation                 24      MORTGAGE          11500   \n",
       "3  debt_consolidation                 14      MORTGAGE         383333   \n",
       "4         credit_card                 19          RENT           3195   \n",
       "\n",
       "   OpenCREDITLines  RevolvingCREDITBalance  InquiriesintheLast6Months  \\\n",
       "0               14                   14272                          2   \n",
       "1               12                   11140                          1   \n",
       "2               14                   21977                          1   \n",
       "3               10                    9346                          0   \n",
       "4               11                   14469                          0   \n",
       "\n",
       "  EmploymentLength  \n",
       "0           1 year  \n",
       "1          2 years  \n",
       "2          2 years  \n",
       "3          5 years  \n",
       "4          9 years  "
      ]
     },
     "execution_count": 76,
     "metadata": {},
     "output_type": "execute_result"
    }
   ],
   "source": [
    "loan.head()"
   ]
  },
  {
   "cell_type": "code",
   "execution_count": 78,
   "metadata": {},
   "outputs": [
    {
     "data": {
      "text/plain": [
       "0    10+ years\n",
       "dtype: object"
      ]
     },
     "execution_count": 78,
     "metadata": {},
     "output_type": "execute_result"
    }
   ],
   "source": [
    "loan.EmploymentLength.mode()"
   ]
  },
  {
   "cell_type": "code",
   "execution_count": 79,
   "metadata": {},
   "outputs": [],
   "source": [
    "loan.EmploymentLength.fillna('10+ years',inplace=True)"
   ]
  },
  {
   "cell_type": "code",
   "execution_count": 80,
   "metadata": {},
   "outputs": [
    {
     "data": {
      "text/plain": [
       "0"
      ]
     },
     "execution_count": 80,
     "metadata": {},
     "output_type": "execute_result"
    }
   ],
   "source": [
    "loan.EmploymentLength.isnull().sum()"
   ]
  },
  {
   "cell_type": "code",
   "execution_count": 81,
   "metadata": {
    "scrolled": true
   },
   "outputs": [
    {
     "data": {
      "text/plain": [
       "ID                           1\n",
       "AmountRequested              0\n",
       "AmountFundedByInvestors      0\n",
       "InterestRate                 0\n",
       "LoanLength                   2\n",
       "LoanPurpose                  1\n",
       "DebtToIncomeRatio            0\n",
       "HomeOwnership                1\n",
       "MonthlyIncome                0\n",
       "OpenCREDITLines              0\n",
       "RevolvingCREDITBalance       0\n",
       "InquiriesintheLast6Months    0\n",
       "EmploymentLength             0\n",
       "dtype: int64"
      ]
     },
     "execution_count": 81,
     "metadata": {},
     "output_type": "execute_result"
    }
   ],
   "source": [
    "loan.isnull().sum()"
   ]
  },
  {
   "cell_type": "code",
   "execution_count": 82,
   "metadata": {},
   "outputs": [],
   "source": [
    "loan.LoanLength.fillna(np.mean,inplace=True)\n",
    "loan.LoanPurpose.fillna(np.mean,inplace=True)\n",
    "loan.HomeOwnership.fillna(np.mean,inplace=True)"
   ]
  },
  {
   "cell_type": "code",
   "execution_count": 83,
   "metadata": {},
   "outputs": [
    {
     "data": {
      "text/plain": [
       "ID                           1\n",
       "AmountRequested              0\n",
       "AmountFundedByInvestors      0\n",
       "InterestRate                 0\n",
       "LoanLength                   0\n",
       "LoanPurpose                  0\n",
       "DebtToIncomeRatio            0\n",
       "HomeOwnership                0\n",
       "MonthlyIncome                0\n",
       "OpenCREDITLines              0\n",
       "RevolvingCREDITBalance       0\n",
       "InquiriesintheLast6Months    0\n",
       "EmploymentLength             0\n",
       "dtype: int64"
      ]
     },
     "execution_count": 83,
     "metadata": {},
     "output_type": "execute_result"
    }
   ],
   "source": [
    "loan.isnull().sum()"
   ]
  },
  {
   "cell_type": "code",
   "execution_count": 84,
   "metadata": {},
   "outputs": [],
   "source": [
    "loan=loan.drop(\"ID\",axis=1)"
   ]
  },
  {
   "cell_type": "code",
   "execution_count": 85,
   "metadata": {},
   "outputs": [
    {
     "data": {
      "text/html": [
       "<div>\n",
       "<style scoped>\n",
       "    .dataframe tbody tr th:only-of-type {\n",
       "        vertical-align: middle;\n",
       "    }\n",
       "\n",
       "    .dataframe tbody tr th {\n",
       "        vertical-align: top;\n",
       "    }\n",
       "\n",
       "    .dataframe thead th {\n",
       "        text-align: right;\n",
       "    }\n",
       "</style>\n",
       "<table border=\"1\" class=\"dataframe\">\n",
       "  <thead>\n",
       "    <tr style=\"text-align: right;\">\n",
       "      <th></th>\n",
       "      <th>AmountRequested</th>\n",
       "      <th>AmountFundedByInvestors</th>\n",
       "      <th>InterestRate</th>\n",
       "      <th>LoanLength</th>\n",
       "      <th>LoanPurpose</th>\n",
       "      <th>DebtToIncomeRatio</th>\n",
       "      <th>HomeOwnership</th>\n",
       "      <th>MonthlyIncome</th>\n",
       "      <th>OpenCREDITLines</th>\n",
       "      <th>RevolvingCREDITBalance</th>\n",
       "      <th>InquiriesintheLast6Months</th>\n",
       "      <th>EmploymentLength</th>\n",
       "    </tr>\n",
       "  </thead>\n",
       "  <tbody>\n",
       "    <tr>\n",
       "      <th>0</th>\n",
       "      <td>20000</td>\n",
       "      <td>20000</td>\n",
       "      <td>9</td>\n",
       "      <td>36 months</td>\n",
       "      <td>debt_consolidation</td>\n",
       "      <td>15</td>\n",
       "      <td>MORTGAGE</td>\n",
       "      <td>654167</td>\n",
       "      <td>14</td>\n",
       "      <td>14272</td>\n",
       "      <td>2</td>\n",
       "      <td>1 year</td>\n",
       "    </tr>\n",
       "    <tr>\n",
       "      <th>1</th>\n",
       "      <td>19200</td>\n",
       "      <td>19200</td>\n",
       "      <td>12</td>\n",
       "      <td>36 months</td>\n",
       "      <td>debt_consolidation</td>\n",
       "      <td>28</td>\n",
       "      <td>MORTGAGE</td>\n",
       "      <td>458333</td>\n",
       "      <td>12</td>\n",
       "      <td>11140</td>\n",
       "      <td>1</td>\n",
       "      <td>2 years</td>\n",
       "    </tr>\n",
       "    <tr>\n",
       "      <th>2</th>\n",
       "      <td>35000</td>\n",
       "      <td>35000</td>\n",
       "      <td>22</td>\n",
       "      <td>60 months</td>\n",
       "      <td>debt_consolidation</td>\n",
       "      <td>24</td>\n",
       "      <td>MORTGAGE</td>\n",
       "      <td>11500</td>\n",
       "      <td>14</td>\n",
       "      <td>21977</td>\n",
       "      <td>1</td>\n",
       "      <td>2 years</td>\n",
       "    </tr>\n",
       "    <tr>\n",
       "      <th>3</th>\n",
       "      <td>10000</td>\n",
       "      <td>9975</td>\n",
       "      <td>1</td>\n",
       "      <td>36 months</td>\n",
       "      <td>debt_consolidation</td>\n",
       "      <td>14</td>\n",
       "      <td>MORTGAGE</td>\n",
       "      <td>383333</td>\n",
       "      <td>10</td>\n",
       "      <td>9346</td>\n",
       "      <td>0</td>\n",
       "      <td>5 years</td>\n",
       "    </tr>\n",
       "    <tr>\n",
       "      <th>4</th>\n",
       "      <td>12000</td>\n",
       "      <td>12000</td>\n",
       "      <td>12</td>\n",
       "      <td>36 months</td>\n",
       "      <td>credit_card</td>\n",
       "      <td>19</td>\n",
       "      <td>RENT</td>\n",
       "      <td>3195</td>\n",
       "      <td>11</td>\n",
       "      <td>14469</td>\n",
       "      <td>0</td>\n",
       "      <td>9 years</td>\n",
       "    </tr>\n",
       "  </tbody>\n",
       "</table>\n",
       "</div>"
      ],
      "text/plain": [
       "   AmountRequested  AmountFundedByInvestors  InterestRate LoanLength  \\\n",
       "0            20000                    20000             9  36 months   \n",
       "1            19200                    19200            12  36 months   \n",
       "2            35000                    35000            22  60 months   \n",
       "3            10000                     9975             1  36 months   \n",
       "4            12000                    12000            12  36 months   \n",
       "\n",
       "          LoanPurpose  DebtToIncomeRatio HomeOwnership  MonthlyIncome  \\\n",
       "0  debt_consolidation                 15      MORTGAGE         654167   \n",
       "1  debt_consolidation                 28      MORTGAGE         458333   \n",
       "2  debt_consolidation                 24      MORTGAGE          11500   \n",
       "3  debt_consolidation                 14      MORTGAGE         383333   \n",
       "4         credit_card                 19          RENT           3195   \n",
       "\n",
       "   OpenCREDITLines  RevolvingCREDITBalance  InquiriesintheLast6Months  \\\n",
       "0               14                   14272                          2   \n",
       "1               12                   11140                          1   \n",
       "2               14                   21977                          1   \n",
       "3               10                    9346                          0   \n",
       "4               11                   14469                          0   \n",
       "\n",
       "  EmploymentLength  \n",
       "0           1 year  \n",
       "1          2 years  \n",
       "2          2 years  \n",
       "3          5 years  \n",
       "4          9 years  "
      ]
     },
     "execution_count": 85,
     "metadata": {},
     "output_type": "execute_result"
    }
   ],
   "source": [
    "loan.head()"
   ]
  },
  {
   "cell_type": "code",
   "execution_count": 89,
   "metadata": {},
   "outputs": [],
   "source": [
    "Data_dummies = pd.get_dummies(loan[[\"LoanLength\",\"LoanPurpose\",\"HomeOwnership\",\"EmploymentLength\"]])"
   ]
  },
  {
   "cell_type": "code",
   "execution_count": 93,
   "metadata": {},
   "outputs": [],
   "source": [
    "Data_num=loan[[\"AmountRequested\",\"AmountFundedByInvestors\",\"InterestRate\",\"DebtToIncomeRatio\",\"MonthlyIncome\",\"OpenCREDITLines\",\"RevolvingCREDITBalance\",\"InquiriesintheLast6Months\"]]"
   ]
  },
  {
   "cell_type": "code",
   "execution_count": 94,
   "metadata": {},
   "outputs": [],
   "source": [
    "Data_combined = pd.concat([Data_num,Data_dummies],axis=1)"
   ]
  },
  {
   "cell_type": "code",
   "execution_count": 95,
   "metadata": {},
   "outputs": [],
   "source": [
    "X=Data_combined.drop(\"AmountRequested\",axis=1)\n",
    "y=Data_combined[\"AmountRequested\"]"
   ]
  },
  {
   "cell_type": "code",
   "execution_count": 96,
   "metadata": {},
   "outputs": [],
   "source": [
    "from sklearn.model_selection import train_test_split"
   ]
  },
  {
   "cell_type": "code",
   "execution_count": 97,
   "metadata": {},
   "outputs": [],
   "source": [
    "X_train,X_test,y_train,y_test = train_test_split(X,y,train_size = 0.7, random_state=100)"
   ]
  },
  {
   "cell_type": "code",
   "execution_count": 98,
   "metadata": {},
   "outputs": [],
   "source": [
    "from sklearn.linear_model import LinearRegression\n",
    "lm = LinearRegression()"
   ]
  },
  {
   "cell_type": "code",
   "execution_count": 99,
   "metadata": {},
   "outputs": [
    {
     "data": {
      "text/plain": [
       "LinearRegression(copy_X=True, fit_intercept=True, n_jobs=None,\n",
       "         normalize=False)"
      ]
     },
     "execution_count": 99,
     "metadata": {},
     "output_type": "execute_result"
    }
   ],
   "source": [
    "lm.fit(X_train,y_train)"
   ]
  },
  {
   "cell_type": "code",
   "execution_count": 100,
   "metadata": {},
   "outputs": [
    {
     "name": "stdout",
     "output_type": "stream",
     "text": [
      "6066.580016909316\n"
     ]
    }
   ],
   "source": [
    "print(lm.intercept_)"
   ]
  },
  {
   "cell_type": "code",
   "execution_count": 101,
   "metadata": {},
   "outputs": [
    {
     "data": {
      "text/html": [
       "<div>\n",
       "<style scoped>\n",
       "    .dataframe tbody tr th:only-of-type {\n",
       "        vertical-align: middle;\n",
       "    }\n",
       "\n",
       "    .dataframe tbody tr th {\n",
       "        vertical-align: top;\n",
       "    }\n",
       "\n",
       "    .dataframe thead th {\n",
       "        text-align: right;\n",
       "    }\n",
       "</style>\n",
       "<table border=\"1\" class=\"dataframe\">\n",
       "  <thead>\n",
       "    <tr style=\"text-align: right;\">\n",
       "      <th></th>\n",
       "      <th>coefficient</th>\n",
       "    </tr>\n",
       "  </thead>\n",
       "  <tbody>\n",
       "    <tr>\n",
       "      <th>AmountFundedByInvestors</th>\n",
       "      <td>2.673102e-03</td>\n",
       "    </tr>\n",
       "    <tr>\n",
       "      <th>InterestRate</th>\n",
       "      <td>2.015998e+02</td>\n",
       "    </tr>\n",
       "    <tr>\n",
       "      <th>DebtToIncomeRatio</th>\n",
       "      <td>-3.860245e+01</td>\n",
       "    </tr>\n",
       "    <tr>\n",
       "      <th>MonthlyIncome</th>\n",
       "      <td>3.225894e-03</td>\n",
       "    </tr>\n",
       "    <tr>\n",
       "      <th>OpenCREDITLines</th>\n",
       "      <td>1.013737e+02</td>\n",
       "    </tr>\n",
       "    <tr>\n",
       "      <th>RevolvingCREDITBalance</th>\n",
       "      <td>8.291662e-02</td>\n",
       "    </tr>\n",
       "    <tr>\n",
       "      <th>InquiriesintheLast6Months</th>\n",
       "      <td>-4.232411e+02</td>\n",
       "    </tr>\n",
       "    <tr>\n",
       "      <th>LoanLength_&lt;function mean at 0x0000008BF5DE0378&gt;</th>\n",
       "      <td>-1.958983e+03</td>\n",
       "    </tr>\n",
       "    <tr>\n",
       "      <th>LoanLength_36 months</th>\n",
       "      <td>-2.268202e+03</td>\n",
       "    </tr>\n",
       "    <tr>\n",
       "      <th>LoanLength_60 months</th>\n",
       "      <td>4.227184e+03</td>\n",
       "    </tr>\n",
       "    <tr>\n",
       "      <th>LoanPurpose_&lt;function mean at 0x0000008BF5DE0378&gt;</th>\n",
       "      <td>7.503764e+02</td>\n",
       "    </tr>\n",
       "    <tr>\n",
       "      <th>LoanPurpose_car</th>\n",
       "      <td>-1.784753e+03</td>\n",
       "    </tr>\n",
       "    <tr>\n",
       "      <th>LoanPurpose_credit_card</th>\n",
       "      <td>1.856671e+03</td>\n",
       "    </tr>\n",
       "    <tr>\n",
       "      <th>LoanPurpose_debt_consolidation</th>\n",
       "      <td>2.648069e+03</td>\n",
       "    </tr>\n",
       "    <tr>\n",
       "      <th>LoanPurpose_educational</th>\n",
       "      <td>-2.525012e+03</td>\n",
       "    </tr>\n",
       "    <tr>\n",
       "      <th>LoanPurpose_home_improvement</th>\n",
       "      <td>1.155725e+03</td>\n",
       "    </tr>\n",
       "    <tr>\n",
       "      <th>LoanPurpose_house</th>\n",
       "      <td>2.373482e+03</td>\n",
       "    </tr>\n",
       "    <tr>\n",
       "      <th>LoanPurpose_major_purchase</th>\n",
       "      <td>-6.488087e+02</td>\n",
       "    </tr>\n",
       "    <tr>\n",
       "      <th>LoanPurpose_medical</th>\n",
       "      <td>-1.358343e+02</td>\n",
       "    </tr>\n",
       "    <tr>\n",
       "      <th>LoanPurpose_moving</th>\n",
       "      <td>-1.471327e+03</td>\n",
       "    </tr>\n",
       "    <tr>\n",
       "      <th>LoanPurpose_other</th>\n",
       "      <td>-1.354154e+03</td>\n",
       "    </tr>\n",
       "    <tr>\n",
       "      <th>LoanPurpose_renewable_energy</th>\n",
       "      <td>-8.696690e+02</td>\n",
       "    </tr>\n",
       "    <tr>\n",
       "      <th>LoanPurpose_small_business</th>\n",
       "      <td>1.934414e+03</td>\n",
       "    </tr>\n",
       "    <tr>\n",
       "      <th>LoanPurpose_vacation</th>\n",
       "      <td>-4.384601e+03</td>\n",
       "    </tr>\n",
       "    <tr>\n",
       "      <th>LoanPurpose_wedding</th>\n",
       "      <td>2.455422e+03</td>\n",
       "    </tr>\n",
       "    <tr>\n",
       "      <th>HomeOwnership_&lt;function mean at 0x0000008BF5DE0378&gt;</th>\n",
       "      <td>-4.774847e-12</td>\n",
       "    </tr>\n",
       "    <tr>\n",
       "      <th>HomeOwnership_MORTGAGE</th>\n",
       "      <td>1.169253e+03</td>\n",
       "    </tr>\n",
       "    <tr>\n",
       "      <th>HomeOwnership_NONE</th>\n",
       "      <td>2.488983e+03</td>\n",
       "    </tr>\n",
       "    <tr>\n",
       "      <th>HomeOwnership_OTHER</th>\n",
       "      <td>-4.699939e+03</td>\n",
       "    </tr>\n",
       "    <tr>\n",
       "      <th>HomeOwnership_OWN</th>\n",
       "      <td>8.219171e+02</td>\n",
       "    </tr>\n",
       "    <tr>\n",
       "      <th>HomeOwnership_RENT</th>\n",
       "      <td>2.197851e+02</td>\n",
       "    </tr>\n",
       "    <tr>\n",
       "      <th>EmploymentLength_1 year</th>\n",
       "      <td>-1.422361e+02</td>\n",
       "    </tr>\n",
       "    <tr>\n",
       "      <th>EmploymentLength_10+ years</th>\n",
       "      <td>4.507620e+02</td>\n",
       "    </tr>\n",
       "    <tr>\n",
       "      <th>EmploymentLength_2 years</th>\n",
       "      <td>-7.958842e+02</td>\n",
       "    </tr>\n",
       "    <tr>\n",
       "      <th>EmploymentLength_3 years</th>\n",
       "      <td>-6.779267e+02</td>\n",
       "    </tr>\n",
       "    <tr>\n",
       "      <th>EmploymentLength_4 years</th>\n",
       "      <td>-8.872834e+02</td>\n",
       "    </tr>\n",
       "    <tr>\n",
       "      <th>EmploymentLength_5 years</th>\n",
       "      <td>-1.248061e+02</td>\n",
       "    </tr>\n",
       "    <tr>\n",
       "      <th>EmploymentLength_6 years</th>\n",
       "      <td>-1.042394e+03</td>\n",
       "    </tr>\n",
       "    <tr>\n",
       "      <th>EmploymentLength_7 years</th>\n",
       "      <td>-1.635164e+02</td>\n",
       "    </tr>\n",
       "    <tr>\n",
       "      <th>EmploymentLength_8 years</th>\n",
       "      <td>1.992949e+02</td>\n",
       "    </tr>\n",
       "    <tr>\n",
       "      <th>EmploymentLength_9 years</th>\n",
       "      <td>3.183990e+03</td>\n",
       "    </tr>\n",
       "  </tbody>\n",
       "</table>\n",
       "</div>"
      ],
      "text/plain": [
       "                                                     coefficient\n",
       "AmountFundedByInvestors                             2.673102e-03\n",
       "InterestRate                                        2.015998e+02\n",
       "DebtToIncomeRatio                                  -3.860245e+01\n",
       "MonthlyIncome                                       3.225894e-03\n",
       "OpenCREDITLines                                     1.013737e+02\n",
       "RevolvingCREDITBalance                              8.291662e-02\n",
       "InquiriesintheLast6Months                          -4.232411e+02\n",
       "LoanLength_<function mean at 0x0000008BF5DE0378>   -1.958983e+03\n",
       "LoanLength_36 months                               -2.268202e+03\n",
       "LoanLength_60 months                                4.227184e+03\n",
       "LoanPurpose_<function mean at 0x0000008BF5DE0378>   7.503764e+02\n",
       "LoanPurpose_car                                    -1.784753e+03\n",
       "LoanPurpose_credit_card                             1.856671e+03\n",
       "LoanPurpose_debt_consolidation                      2.648069e+03\n",
       "LoanPurpose_educational                            -2.525012e+03\n",
       "LoanPurpose_home_improvement                        1.155725e+03\n",
       "LoanPurpose_house                                   2.373482e+03\n",
       "LoanPurpose_major_purchase                         -6.488087e+02\n",
       "LoanPurpose_medical                                -1.358343e+02\n",
       "LoanPurpose_moving                                 -1.471327e+03\n",
       "LoanPurpose_other                                  -1.354154e+03\n",
       "LoanPurpose_renewable_energy                       -8.696690e+02\n",
       "LoanPurpose_small_business                          1.934414e+03\n",
       "LoanPurpose_vacation                               -4.384601e+03\n",
       "LoanPurpose_wedding                                 2.455422e+03\n",
       "HomeOwnership_<function mean at 0x0000008BF5DE0... -4.774847e-12\n",
       "HomeOwnership_MORTGAGE                              1.169253e+03\n",
       "HomeOwnership_NONE                                  2.488983e+03\n",
       "HomeOwnership_OTHER                                -4.699939e+03\n",
       "HomeOwnership_OWN                                   8.219171e+02\n",
       "HomeOwnership_RENT                                  2.197851e+02\n",
       "EmploymentLength_1 year                            -1.422361e+02\n",
       "EmploymentLength_10+ years                          4.507620e+02\n",
       "EmploymentLength_2 years                           -7.958842e+02\n",
       "EmploymentLength_3 years                           -6.779267e+02\n",
       "EmploymentLength_4 years                           -8.872834e+02\n",
       "EmploymentLength_5 years                           -1.248061e+02\n",
       "EmploymentLength_6 years                           -1.042394e+03\n",
       "EmploymentLength_7 years                           -1.635164e+02\n",
       "EmploymentLength_8 years                            1.992949e+02\n",
       "EmploymentLength_9 years                            3.183990e+03"
      ]
     },
     "execution_count": 101,
     "metadata": {},
     "output_type": "execute_result"
    }
   ],
   "source": [
    "coeff_df = pd.DataFrame(lm.coef_,X_train.columns,columns=['coefficient'])\n",
    "coeff_df"
   ]
  },
  {
   "cell_type": "code",
   "execution_count": null,
   "metadata": {},
   "outputs": [],
   "source": []
  }
 ],
 "metadata": {
  "kernelspec": {
   "display_name": "Python 3",
   "language": "python",
   "name": "python3"
  },
  "language_info": {
   "codemirror_mode": {
    "name": "ipython",
    "version": 3
   },
   "file_extension": ".py",
   "mimetype": "text/x-python",
   "name": "python",
   "nbconvert_exporter": "python",
   "pygments_lexer": "ipython3",
   "version": "3.7.3"
  }
 },
 "nbformat": 4,
 "nbformat_minor": 2
}
